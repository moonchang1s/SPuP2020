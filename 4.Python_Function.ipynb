{
 "cells": [
  {
   "cell_type": "markdown",
   "metadata": {},
   "source": [
    "# 4. 함수"
   ]
  },
  {
   "cell_type": "markdown",
   "metadata": {},
   "source": [
    "### 함수 - function\n",
    "\n",
    "* 함수는 하나의 관련 작업을 수행하는 데 사용되는 재사용 가능한 코드 블록이다.\n",
    "  * 함수는 응용 프로그램의 모듈성을 높이고 코드 재사용 수준을 높인다.\n",
    "\n",
    "* Python은 기본적으로 많은 내장 함수를 제공한다.\n",
    "* 문자열 등을 다루면서 함수를 사용한 경험을 상기해 보자.\n",
    "  * ```len(\"Python programming\")```\n",
    "\n",
    "* 필요에 따라 함수를 생성하여 원하는 기능을 따로 분리하여 사용하는 법을 익혀보자.\n",
    "  * Python에서 제공하는 함수 뿐만 아니라 사용자 정의의 새로운 함수를 만드는 법.\n",
    "  * Decomposition and abstraction"
   ]
  },
  {
   "cell_type": "markdown",
   "metadata": {},
   "source": [
    "### 함수 정의의 규칙\n",
    "\n",
    "* 함수 블록은 키워드 ```def```와 함수 이름 및 괄호```()```로 시작한다.\n",
    "\n",
    "* 모든 입력 매개 변수는 괄호 안에 있어야 한다. 이 괄호 안에 매개 변수를 정의할 수도 있다.\n",
    "\n",
    "* 모든 함수 내의 코드 블록은 콜론(```:```)으로 시작되고 들여쓰기를 하여야 한다.\n",
    "\n",
    "* ```return [expression]``` 명령문은 함수를 종료하고 호출자에게 결과를 전달한다. \n",
    "\n",
    "```\n",
    "def function_name(< argument >):   \n",
    "   < something to do >\n",
    "```"
   ]
  },
  {
   "cell_type": "markdown",
   "metadata": {},
   "source": [
    "### 함수 예제\n",
    "\n",
    "* 제곱 후 1을 더해서 반환하는 함수"
   ]
  },
  {
   "cell_type": "code",
   "execution_count": 34,
   "metadata": {},
   "outputs": [],
   "source": [
    "def square_plus_one(x):\n",
    "    ans = x ** 2 + 1\n",
    "    return ans"
   ]
  },
  {
   "cell_type": "markdown",
   "metadata": {},
   "source": [
    "<img src=\"./figure/function.png\" width=\"400\">"
   ]
  },
  {
   "cell_type": "markdown",
   "metadata": {},
   "source": [
    " * 함수는 인자(argument)를 입력 받아 ```x```라는 매개 변수(parameter)에 대입 \n",
    " * ```x**2 + 1``` 의 계산을 수행한 후 \n",
    " * 결과를 ```ans```에 대입하여 반환(return)하고 있음\n",
    "\n",
    " * 함수의 정의가 완료되었으면 이 함수를 이용하여 계산을 할 수 있다.\n",
    "   * ```square_plus_one(10)``` 등을 수행해 보자.\n",
    "   * 10이라는 인자를 입력 받아 ```x```라는 매개 변수에 대입하여 계산을 수행한 후 결과를 전달한다."
   ]
  },
  {
   "cell_type": "code",
   "execution_count": 2,
   "metadata": {},
   "outputs": [
    {
     "data": {
      "text/plain": [
       "101"
      ]
     },
     "execution_count": 2,
     "metadata": {},
     "output_type": "execute_result"
    }
   ],
   "source": [
    "square_plus_one(10)"
   ]
  },
  {
   "cell_type": "markdown",
   "metadata": {},
   "source": [
    "### 함수 예제(2)\n",
    "\n",
    " * 제곱근 반환 함수"
   ]
  },
  {
   "cell_type": "code",
   "execution_count": 3,
   "metadata": {},
   "outputs": [],
   "source": [
    "def my_sqrt(x):\n",
    "    ans = 0\n",
    "    increment = 1\n",
    "    while increment >= 0.0001:\n",
    "        ans += increment\n",
    "        if ans**2 == x:\n",
    "            break\n",
    "        elif ans**2>x:\n",
    "            ans -= increment\n",
    "            increment = increment/10.0\n",
    "    return ans"
   ]
  },
  {
   "cell_type": "markdown",
   "metadata": {},
   "source": [
    "### 함수 사용\n",
    "\n",
    "* 함수를 정의하였으면 이를 활용할 수 있음"
   ]
  },
  {
   "cell_type": "code",
   "execution_count": 5,
   "metadata": {},
   "outputs": [
    {
     "name": "stdout",
     "output_type": "stream",
     "text": [
      "1.4142\n"
     ]
    }
   ],
   "source": [
    "print(my_sqrt(2))"
   ]
  },
  {
   "cell_type": "code",
   "execution_count": 6,
   "metadata": {},
   "outputs": [
    {
     "name": "stdout",
     "output_type": "stream",
     "text": [
      "4\n"
     ]
    }
   ],
   "source": [
    "y = 16 \n",
    "print(my_sqrt(y))"
   ]
  },
  {
   "cell_type": "code",
   "execution_count": 7,
   "metadata": {},
   "outputs": [
    {
     "name": "stdout",
     "output_type": "stream",
     "text": [
      "12\n"
     ]
    }
   ],
   "source": [
    "z = 12 \n",
    "print(my_sqrt(z*12))"
   ]
  },
  {
   "cell_type": "code",
   "execution_count": 8,
   "metadata": {},
   "outputs": [
    {
     "name": "stdout",
     "output_type": "stream",
     "text": [
      "100\n"
     ]
    }
   ],
   "source": [
    "x = my_sqrt(100) \n",
    "print(x*x)"
   ]
  },
  {
   "cell_type": "markdown",
   "metadata": {},
   "source": [
    "### ```return```과 ```print```\n",
    "\n",
    "* 함수를 처음 접하는 경우 ```return```과 ```print```의 개념을 혼동하는 경우가 많다.  \n",
    "* 이는 Jupyter notebook 등에서 함수를 실행할 때, return 값을 자동으로 화면에 출력하도록 하기 때문이다.  \n",
    "* 실제로는 둘은 전혀 다른 개념이므로 절대로 혼동하지 않도록 한다.   \n",
    "* ```return```의 궁극적인 목적은 함수의 계산 결과를 반환하여 이차적으로 활용할 수 있도록 하는 것이고,   \n",
    "* ```print```는 단순히 화면에 출력하여 프로그래머가 눈으로 값을 확인할 수 있게 한다. \n",
    "  * 함수 내에서 사용되는 ```print```는 함수 본체 중의 일부일 뿐이다.\n",
    "* 다음 두 함수를 비교해 보자."
   ]
  },
  {
   "cell_type": "code",
   "execution_count": 9,
   "metadata": {},
   "outputs": [],
   "source": [
    "def this_func_print(x):\n",
    "    print(x ** 2 + 1)\n",
    "\n",
    "def this_func_return(x):\n",
    "    return x ** 2 + 1"
   ]
  },
  {
   "cell_type": "markdown",
   "metadata": {},
   "source": [
    "단순히 함수를 실행시켰을 경우, Jupyter notebook이나 콘솔에서의 실행 결과는 비슷해 보인다."
   ]
  },
  {
   "cell_type": "code",
   "execution_count": 10,
   "metadata": {},
   "outputs": [
    {
     "name": "stdout",
     "output_type": "stream",
     "text": [
      "5\n"
     ]
    }
   ],
   "source": [
    "this_func_print(2)"
   ]
  },
  {
   "cell_type": "code",
   "execution_count": 11,
   "metadata": {},
   "outputs": [
    {
     "data": {
      "text/plain": [
       "5"
      ]
     },
     "execution_count": 11,
     "metadata": {},
     "output_type": "execute_result"
    }
   ],
   "source": [
    "this_func_return(2)"
   ]
  },
  {
   "cell_type": "markdown",
   "metadata": {},
   "source": [
    "하지만, ```this_func_return```의 결과는 다른 변수에 할당하여, 이차적으로 활용할 수 있는 반면, ```this_func_print```는 그렇지 않다."
   ]
  },
  {
   "cell_type": "code",
   "execution_count": 12,
   "metadata": {},
   "outputs": [
    {
     "name": "stdout",
     "output_type": "stream",
     "text": [
      "0.5\n"
     ]
    }
   ],
   "source": [
    "y = this_func_return(2) # this_func_return(2)의 결과 5가 y에 대입된다.\n",
    "print(y / 10)           # y를 다른 계산에 활용할 수 있다. 5/10 = 0.5"
   ]
  },
  {
   "cell_type": "markdown",
   "metadata": {},
   "source": [
    "```this_func_print```의 ```return```은 존재하지 않으며, python에서는 이를 ```None```이라는 값으로 처리한다.  \n",
    "따라서 다음 코드에서 ```y```의 값은 ```None```에 불과하며 이를 이차적으로 활용할 방안은 많지 않다."
   ]
  },
  {
   "cell_type": "code",
   "execution_count": 13,
   "metadata": {},
   "outputs": [
    {
     "name": "stdout",
     "output_type": "stream",
     "text": [
      "5\n",
      "None\n"
     ]
    }
   ],
   "source": [
    "y = this_func_print(2)   # this_func_print(2) 결과는 5로 정상 출력되지만\n",
    "print(y)                 # y는 None으로 큰 의미가 없음, 즉 다른 계산에 활용할 수 없다."
   ]
  },
  {
   "cell_type": "markdown",
   "metadata": {},
   "source": [
    "### 인자가 없는 경우\n",
    "* 함수는 아무런 인자를 받지 않을 수 있음\n",
    "* 빈 괄호 ()로 표현된다."
   ]
  },
  {
   "cell_type": "code",
   "execution_count": 14,
   "metadata": {},
   "outputs": [],
   "source": [
    "def print_something():\n",
    "    print(\"This function does nothing.\")"
   ]
  },
  {
   "cell_type": "markdown",
   "metadata": {},
   "source": [
    "* 위 함수는 아무런 인자를 받지 않을 뿐만 아니라, 아무런 반환값도 없음 (```None```을 반환)\n",
    "  * ```return```을 찾을 수 없다.\n",
    "  * ```print_something()``` 함수를 실행해 보자. "
   ]
  },
  {
   "cell_type": "code",
   "execution_count": 15,
   "metadata": {},
   "outputs": [
    {
     "name": "stdout",
     "output_type": "stream",
     "text": [
      "This function does nothing.\n"
     ]
    }
   ],
   "source": [
    "print_something()"
   ]
  },
  {
   "cell_type": "markdown",
   "metadata": {},
   "source": [
    "* 인자가 필요하지만 함수 호출 시 입력하지 않았을 경우 에러가 발생한다."
   ]
  },
  {
   "cell_type": "code",
   "execution_count": 16,
   "metadata": {},
   "outputs": [
    {
     "ename": "TypeError",
     "evalue": "printme() missing 1 required positional argument: 'stri'",
     "output_type": "error",
     "traceback": [
      "\u001b[0;31m---------------------------------------------------------------------------\u001b[0m",
      "\u001b[0;31mTypeError\u001b[0m                                 Traceback (most recent call last)",
      "\u001b[0;32m<ipython-input-16-46fdeebb8fc1>\u001b[0m in \u001b[0;36m<module>\u001b[0;34m\u001b[0m\n\u001b[1;32m      3\u001b[0m     \u001b[0;32mreturn\u001b[0m\u001b[0;34m\u001b[0m\u001b[0;34m\u001b[0m\u001b[0m\n\u001b[1;32m      4\u001b[0m \u001b[0;34m\u001b[0m\u001b[0m\n\u001b[0;32m----> 5\u001b[0;31m \u001b[0mprintme\u001b[0m\u001b[0;34m(\u001b[0m\u001b[0;34m)\u001b[0m\u001b[0;34m\u001b[0m\u001b[0;34m\u001b[0m\u001b[0m\n\u001b[0m",
      "\u001b[0;31mTypeError\u001b[0m: printme() missing 1 required positional argument: 'stri'"
     ]
    }
   ],
   "source": [
    "def printme(stri):\n",
    "    print(\"Input is :\", stri)\n",
    "    return\n",
    "\n",
    "printme()"
   ]
  },
  {
   "cell_type": "markdown",
   "metadata": {},
   "source": [
    "* 다음과 같이 인자가 어떤 값을 입력받는지 확실히 표현할 수도 있다.\n",
    "  * ```(stri = \"My string\") ```이라고 표현한 것에 주목하자."
   ]
  },
  {
   "cell_type": "code",
   "execution_count": 16,
   "metadata": {},
   "outputs": [
    {
     "name": "stdout",
     "output_type": "stream",
     "text": [
      "Input is : My string\n"
     ]
    }
   ],
   "source": [
    "def printme(stri):\n",
    "    print(\"Input is :\", stri)\n",
    "    return\n",
    "\n",
    "\n",
    "printme(stri = \"My string\")"
   ]
  },
  {
   "cell_type": "markdown",
   "metadata": {},
   "source": [
    "### 여러 개의 인자를 받는 함수\n",
    "\n",
    "* 함수는 여러 개의 인자를 받을 수 있다."
   ]
  },
  {
   "cell_type": "code",
   "execution_count": 17,
   "metadata": {},
   "outputs": [
    {
     "name": "stdout",
     "output_type": "stream",
     "text": [
      "Name:  miki\n",
      "Age:  50\n"
     ]
    }
   ],
   "source": [
    "def printinfo(name, age):\n",
    "    print(\"Name: \", name)\n",
    "    print(\"Age: \", age)\n",
    "    return\n",
    "\n",
    "printinfo(age=50, name=\"miki\")"
   ]
  },
  {
   "cell_type": "code",
   "execution_count": 18,
   "metadata": {},
   "outputs": [],
   "source": [
    "def my_max(x, y):\n",
    "    if x >= y:\n",
    "          return x\n",
    "    else:\n",
    "          return y"
   ]
  },
  {
   "cell_type": "code",
   "execution_count": 19,
   "metadata": {},
   "outputs": [
    {
     "data": {
      "text/plain": [
       "12"
      ]
     },
     "execution_count": 19,
     "metadata": {},
     "output_type": "execute_result"
    }
   ],
   "source": [
    "my_max(10,12)"
   ]
  },
  {
   "cell_type": "markdown",
   "metadata": {},
   "source": [
    "### 여러 개의 인자를 받는 함수(2)\n",
    "\n",
    "* 최대공약수를 구하는 함수"
   ]
  },
  {
   "cell_type": "code",
   "execution_count": 20,
   "metadata": {},
   "outputs": [],
   "source": [
    "def my_GCD(x, y):\n",
    "    j = 1\n",
    "    ans = 1\n",
    "    while j <= x and j <= y:\n",
    "        if x%j == 0 and y%j == 0:\n",
    "            ans = j\n",
    "        j += 1\n",
    "    return ans"
   ]
  },
  {
   "cell_type": "code",
   "execution_count": 21,
   "metadata": {},
   "outputs": [
    {
     "data": {
      "text/plain": [
       "12"
      ]
     },
     "execution_count": 21,
     "metadata": {},
     "output_type": "execute_result"
    }
   ],
   "source": [
    "my_GCD(24, 84)"
   ]
  },
  {
   "cell_type": "markdown",
   "metadata": {},
   "source": [
    "* 최소공배수를 구하는 함수도 만들어 보자."
   ]
  },
  {
   "cell_type": "markdown",
   "metadata": {},
   "source": [
    "### 예제"
   ]
  },
  {
   "cell_type": "markdown",
   "metadata": {},
   "source": [
    "#### My LCM Code"
   ]
  },
  {
   "cell_type": "code",
   "execution_count": 7,
   "metadata": {},
   "outputs": [],
   "source": [
    "# 이 예제는 s21610670에 의해 제공되었다.\n",
    "def my_LCM(x,y):\n",
    "    j=1\n",
    "    ans=1\n",
    "    while j <= x and j <= y:\n",
    "        if x%j==0 and y %j==0:\n",
    "            ans = j \n",
    "        j += 1\n",
    "    lcm = x*y/ans\n",
    "    return int(lcm)"
   ]
  },
  {
   "cell_type": "code",
   "execution_count": 8,
   "metadata": {},
   "outputs": [
    {
     "data": {
      "text/plain": [
       "136"
      ]
     },
     "execution_count": 8,
     "metadata": {},
     "output_type": "execute_result"
    }
   ],
   "source": [
    "my_LCM(8,17)"
   ]
  },
  {
   "cell_type": "markdown",
   "metadata": {},
   "source": [
    "#### Propessor's code"
   ]
  },
  {
   "cell_type": "code",
   "execution_count": 9,
   "metadata": {},
   "outputs": [],
   "source": [
    "# 이 예제는 s21610670에 의해 제공되었다.\n",
    "def my_LCM(x, y):\n",
    "    j = max(x,y)\n",
    "    while j <= x * y:\n",
    "        if j%x == 0 and j%y == 0:\n",
    "            return j\n",
    "        j += 1\n",
    "     "
   ]
  },
  {
   "cell_type": "code",
   "execution_count": 10,
   "metadata": {},
   "outputs": [
    {
     "data": {
      "text/plain": [
       "136"
      ]
     },
     "execution_count": 10,
     "metadata": {},
     "output_type": "execute_result"
    }
   ],
   "source": [
    "my_LCM(8,17)"
   ]
  },
  {
   "cell_type": "markdown",
   "metadata": {},
   "source": [
    "### 예제"
   ]
  },
  {
   "cell_type": "code",
   "execution_count": 22,
   "metadata": {},
   "outputs": [],
   "source": [
    "def printName(firstName, lastName, reverse):\n",
    "    if reverse:\n",
    "          print(lastName + ', ' + firstName)\n",
    "    else:\n",
    "          print(firstName, lastName)"
   ]
  },
  {
   "cell_type": "markdown",
   "metadata": {},
   "source": [
    "* 다음은 동치"
   ]
  },
  {
   "cell_type": "code",
   "execution_count": 23,
   "metadata": {
    "scrolled": false
   },
   "outputs": [
    {
     "name": "stdout",
     "output_type": "stream",
     "text": [
      "Kyungsub Lee\n",
      "Kyungsub Lee\n",
      "Kyungsub Lee\n"
     ]
    }
   ],
   "source": [
    "printName('Kyungsub', 'Lee', False)\n",
    "printName('Kyungsub', 'Lee', reverse=False)\n",
    "printName(lastName='Lee', firstName='Kyungsub', reverse=False)"
   ]
  },
  {
   "cell_type": "markdown",
   "metadata": {},
   "source": []
  },
  {
   "cell_type": "markdown",
   "metadata": {},
   "source": [
    "### 예제\n",
    "* 피보나치 수열 구하기\n",
    "    * f(n) = 1 (n<=2)\n",
    "    * f(n) = f(n-2)+f(n-1) (n>2)"
   ]
  },
  {
   "cell_type": "code",
   "execution_count": 1,
   "metadata": {
    "scrolled": true
   },
   "outputs": [
    {
     "name": "stdout",
     "output_type": "stream",
     "text": [
      "f(1) = 1\n",
      "f(2) = 1\n",
      "f(3) = 2\n",
      "f(4) = 3\n",
      "f(5) = 5\n",
      "f(6) = 8\n",
      "f(7) = 13\n",
      "f(8) = 21\n",
      "f(9) = 34\n"
     ]
    }
   ],
   "source": [
    "def fib(n):\n",
    "    if n==0:\n",
    "        return 0\n",
    "    elif (n == 1 or n==2):\n",
    "        return 1\n",
    "    else:\n",
    "        return fib(n-2)+fib(n-1)\n",
    "\n",
    "for n in range(1, 10):\n",
    "    print(\"f(%d) = %d\" % (n,fib(n)))"
   ]
  },
  {
   "cell_type": "markdown",
   "metadata": {},
   "source": [
    "### default parameter\n",
    "\n",
    "* 함수 생성 시 다음과 같이 default parameter를 설정할 수 있다.\n",
    "* default parameter는 입력값이 따로 없을 때, 미리 설정된 default값을 이용한다."
   ]
  },
  {
   "cell_type": "code",
   "execution_count": 24,
   "metadata": {},
   "outputs": [
    {
     "name": "stdout",
     "output_type": "stream",
     "text": [
      "Kyungsub Lee\n"
     ]
    }
   ],
   "source": [
    "def printName(firstName, lastName, reverse = False):\n",
    "    if reverse:\n",
    "         print(lastName + ', ' + firstName)\n",
    "    else:\n",
    "         print(firstName, lastName)\n",
    "            \n",
    "printName('Kyungsub', 'Lee')"
   ]
  },
  {
   "cell_type": "code",
   "execution_count": 25,
   "metadata": {},
   "outputs": [
    {
     "name": "stdout",
     "output_type": "stream",
     "text": [
      "Lee, Kyungsub\n"
     ]
    }
   ],
   "source": [
    "printName('Kyungsub', 'Lee', True)"
   ]
  },
  {
   "cell_type": "code",
   "execution_count": 26,
   "metadata": {},
   "outputs": [],
   "source": [
    "def printinfo( name, age = 35 ):\n",
    "    print(\"Name: \", name)\n",
    "    print(\"Age: \", age)\n",
    "    return"
   ]
  },
  {
   "cell_type": "code",
   "execution_count": 27,
   "metadata": {},
   "outputs": [
    {
     "name": "stdout",
     "output_type": "stream",
     "text": [
      "Name:  miki\n",
      "Age:  50\n",
      "Name:  miki\n",
      "Age:  35\n"
     ]
    }
   ],
   "source": [
    "printinfo( age=50, name=\"miki\" )\n",
    "printinfo( name=\"miki\" )"
   ]
  },
  {
   "cell_type": "markdown",
   "metadata": {},
   "source": [
    "### 지역 변수(local variable)\n",
    "\n",
    "* 함수 내의 변수는 함수 내에서만 존재하는 변수"
   ]
  },
  {
   "cell_type": "code",
   "execution_count": 28,
   "metadata": {},
   "outputs": [
    {
     "name": "stdout",
     "output_type": "stream",
     "text": [
      "10\n"
     ]
    }
   ],
   "source": [
    "def my_func():\n",
    "    x = 20\n",
    "    \n",
    "x = 10\n",
    "my_func()\n",
    "print(x)"
   ]
  },
  {
   "cell_type": "markdown",
   "metadata": {},
   "source": [
    "* 함수 내의 지역 변수와 함수 바깥의 전역 변수(global variable)이 분리되어 있음을 주의"
   ]
  },
  {
   "cell_type": "code",
   "execution_count": 29,
   "metadata": {},
   "outputs": [
    {
     "name": "stdout",
     "output_type": "stream",
     "text": [
      "20\n"
     ]
    }
   ],
   "source": [
    "def my_func():\n",
    "    x = 20\n",
    "    return x\n",
    "\n",
    "x = 10\n",
    "x = my_func()\n",
    "print(x)\n"
   ]
  },
  {
   "cell_type": "code",
   "execution_count": 30,
   "metadata": {},
   "outputs": [
    {
     "name": "stdout",
     "output_type": "stream",
     "text": [
      "1\n"
     ]
    }
   ],
   "source": [
    "def increase(x):\n",
    "    x = x + 1\n",
    "    \n",
    "x=1\n",
    "increase(x)\n",
    "print(x)"
   ]
  },
  {
   "cell_type": "code",
   "execution_count": 31,
   "metadata": {},
   "outputs": [
    {
     "name": "stdout",
     "output_type": "stream",
     "text": [
      "2\n"
     ]
    }
   ],
   "source": [
    "def increase(x):\n",
    "    x = x + 1\n",
    "    return x\n",
    "\n",
    "x = 1\n",
    "x = increase(x)\n",
    "print(x)\n"
   ]
  },
  {
   "cell_type": "markdown",
   "metadata": {},
   "source": [
    "####  변수  scope 더 살펴보기\n",
    "\n",
    "변수의 scope는 해당 변수가 파이썬 인터프리터에게 보이거나 액세스 가능한 범위를 나타낸다.\n",
    "\n",
    "다음의 예제에서 변수 ```x```는 함수 내에 존재하지 않기 때문에, 함수 바깥에서 정의된 ```x```의 값을 가져온다."
   ]
  },
  {
   "cell_type": "code",
   "execution_count": 32,
   "metadata": {},
   "outputs": [
    {
     "name": "stdout",
     "output_type": "stream",
     "text": [
      "1\n"
     ]
    }
   ],
   "source": [
    "x = 1\n",
    "def print_x():\n",
    "    print(x)\n",
    "    \n",
    "print_x()"
   ]
  },
  {
   "cell_type": "markdown",
   "metadata": {},
   "source": [
    "다음은 함수 밖에 ```x```가 정의되어 있어 있지만, 함수 내에서 ```x```가 다시 정의되다.  \n",
    "이 경우 함수 내에서 ```x```를 사용할 때는, 함수 내에서 정의된 ```x```가 우선 순위를 가진다."
   ]
  },
  {
   "cell_type": "code",
   "execution_count": 33,
   "metadata": {},
   "outputs": [
    {
     "name": "stdout",
     "output_type": "stream",
     "text": [
      "2\n"
     ]
    }
   ],
   "source": [
    "x = 1\n",
    "def print_x():\n",
    "    x = 2\n",
    "    print(x)\n",
    "    \n",
    "print_x()"
   ]
  },
  {
   "cell_type": "markdown",
   "metadata": {},
   "source": [
    "### 농장 문제\n",
    "\n",
    "* 농장에 돼지들과 닭들이 있다. 총 머리의 수는 20개, 총 다리의 수는 56개이다. 돼지와 닭의 수는 각각 얼마인가?\n",
    " * Brute force 방법으로 풀어보자."
   ]
  },
  {
   "cell_type": "code",
   "execution_count": 34,
   "metadata": {},
   "outputs": [
    {
     "name": "stdout",
     "output_type": "stream",
     "text": [
      "8 12\n"
     ]
    }
   ],
   "source": [
    "for x in range(0,21):\n",
    "    y = 20 - x\n",
    "    if 4*x + 2*y == 56:\n",
    "         break\n",
    "print(x, y)"
   ]
  },
  {
   "cell_type": "markdown",
   "metadata": {},
   "source": [
    "### 농장 문제 – 함수\n",
    "\n",
    "* 임의의 머리 수와 다리 수가 주어졌을 때, 돼지와 닭의 수를 구하는 함수를 작성해 보자."
   ]
  },
  {
   "cell_type": "code",
   "execution_count": 1,
   "metadata": {},
   "outputs": [],
   "source": [
    "def farm(numHeads, numLegs):\n",
    "    for x in range(0, numHeads + 1):\n",
    "        y = numHeads - x\n",
    "        if 4*x + 2*y == numLegs:\n",
    "              return x, y\n"
   ]
  },
  {
   "cell_type": "code",
   "execution_count": 2,
   "metadata": {},
   "outputs": [
    {
     "name": "stdout",
     "output_type": "stream",
     "text": [
      "(8, 12)\n"
     ]
    }
   ],
   "source": [
    "print(farm(20, 56))"
   ]
  },
  {
   "cell_type": "code",
   "execution_count": 3,
   "metadata": {},
   "outputs": [
    {
     "name": "stdout",
     "output_type": "stream",
     "text": [
      "(10, 10)\n"
     ]
    }
   ],
   "source": [
    "print(farm(20, 60))"
   ]
  },
  {
   "cell_type": "markdown",
   "metadata": {},
   "source": [
    "### 순열&조합 계산기_함수\n",
    "* N개의 원소를 가지고 있는 집합에서 M개의 원소를 선택할 수 있는 경우의 수를 계산합니다."
   ]
  },
  {
   "cell_type": "code",
   "execution_count": null,
   "metadata": {},
   "outputs": [],
   "source": [
    "print('예 혹은 아니오로 답하시오')\n",
    "\n",
    "Q1=input('뽑는 순서를 고려하나요?')\n",
    "\n",
    "Q2=input('한번 뽑은 원소를 다시 뽑을 수 있나요?')\n",
    "\n",
    "n=int(input('n ='))\n",
    "\n",
    "m=int(input('m ='))\n",
    "    \n",
    "def permutation(n,m):\n",
    "\n",
    "    result=1\n",
    "\n",
    "    for x in range(1,m+1):\n",
    "\n",
    "        result=result*n\n",
    "\n",
    "        n=n-1\n",
    "\n",
    "    return result\n",
    "\n",
    "def combination(n,m):\n",
    "\n",
    "    result=permutation(n,m)\n",
    "\n",
    "    for i in range(1,m+1):\n",
    "\n",
    "        result=result/i\n",
    "\n",
    "    return result\n",
    "\n",
    " \n",
    "if Q1=='예' and Q2=='아니오':       #순열\n",
    "\n",
    "    print(permutation(n,m))\n",
    "\n",
    "elif Q1=='예' and Q2=='예':         #중복순열\n",
    "\n",
    "    print(n**m)\n",
    "\n",
    "elif Q1=='아니오' and Q2=='예':     #중복조합\n",
    "\n",
    "    print(combination(n+m-1,m))\n",
    "\n",
    "elif Q1=='아니오' and Q2=='아니오': #조합\n",
    "\n",
    "    print(combination(n,m))\n"
   ]
  },
  {
   "cell_type": "markdown",
   "metadata": {},
   "source": [
    "### 선택한 수 찾는 문제 – 함수\n",
    "\n",
    "* 3장에서 1에서 100중의 자연수 중 하나를 골랐을 때, 그 수를 맞추는 방법을 예시로 배운 bisection 방법을 함수로 작성해 보자."
   ]
  },
  {
   "cell_type": "code",
   "execution_count": 36,
   "metadata": {},
   "outputs": [],
   "source": [
    "def bisect(x,left,right):\n",
    "    count=0\n",
    "    middle=int((left+right)/2)\n",
    "    if middle==x:\n",
    "        print(\"중간값인\",middle,\"와 같다\")   \n",
    "        print(\"고른 수는\",x,\"이고 1번만에 찾았다.\")\n",
    "        return \n",
    "    while middle!=x:\n",
    "        middle=int((left+right)/2)\n",
    "        count+=1\n",
    "        if middle<x:\n",
    "            print(\"중간값인\",middle,\"보다 크다\")\n",
    "            left=middle\n",
    "        elif middle>x:\n",
    "            print(\"중간값인\",middle,\"보다 작다\")\n",
    "            right=middle\n",
    "    print(\"중간값인\",middle,\"와 같다\")\n",
    "    print(\"선택한 수는\",x,\"이고\",count,\"번만에 찾았다.\")"
   ]
  },
  {
   "cell_type": "code",
   "execution_count": 37,
   "metadata": {},
   "outputs": [
    {
     "name": "stdout",
     "output_type": "stream",
     "text": [
      "중간값인 50 보다 크다\n",
      "중간값인 75 보다 작다\n",
      "중간값인 62 보다 작다\n",
      "중간값인 56 보다 크다\n",
      "중간값인 59 보다 크다\n",
      "중간값인 60 와 같다\n",
      "선택한 수는 60 이고 6 번만에 찾았다.\n"
     ]
    }
   ],
   "source": [
    "bisect(60,1,100)"
   ]
  },
  {
   "cell_type": "code",
   "execution_count": 38,
   "metadata": {},
   "outputs": [
    {
     "name": "stdout",
     "output_type": "stream",
     "text": [
      "중간값인 50 와 같다\n",
      "고른 수는 50 이고 1번만에 찾았다.\n"
     ]
    }
   ],
   "source": [
    "bisect(50,1,100)"
   ]
  },
  {
   "cell_type": "markdown",
   "metadata": {},
   "source": [
    "### None\n",
    "\n",
    "* Python에서 없는 값을 나타내기 위해 사용되는 값\n",
    "* None을 이용하여 해가 없는 경우를 대비하여 보자."
   ]
  },
  {
   "cell_type": "code",
   "execution_count": 38,
   "metadata": {},
   "outputs": [
    {
     "data": {
      "text/plain": [
       "(None, None)"
      ]
     },
     "execution_count": 38,
     "metadata": {},
     "output_type": "execute_result"
    }
   ],
   "source": [
    "def farm(numHeads, numLegs):\n",
    "    for x in range(0, numHeads + 1):\n",
    "        y = numHeads - x\n",
    "        if 4*x + 2*y == numLegs:\n",
    "            return x, y\n",
    "    return None, None\n",
    "\n",
    "farm(100,10)"
   ]
  },
  {
   "cell_type": "markdown",
   "metadata": {},
   "source": [
    "* 앞의 예제에서 return이 두 번 등장함을 볼 수 있음  \n",
    "   * 첫 번째 return은 방정식의 조건이 만족하면 다리의 숫자를 return하고 함수를 종료  \n",
    "   * 두 번째 return은 방정식의 조건을 만족하는 해가 없을 때 None을 반환"
   ]
  },
  {
   "cell_type": "markdown",
   "metadata": {},
   "source": [
    "### 함수를 호출하는 함수"
   ]
  },
  {
   "cell_type": "code",
   "execution_count": 41,
   "metadata": {},
   "outputs": [
    {
     "name": "stdout",
     "output_type": "stream",
     "text": [
      "Enter the number of heads : 16\n",
      "Enther the number of legs : 52\n",
      "Number of pigs :  10\n",
      "Number of chickens :  6\n"
     ]
    }
   ],
   "source": [
    "def farm_UI():\n",
    "    heads = int(input('Enter the number of heads : '))\n",
    "    legs = int(input('Enther the number of legs : '))\n",
    "    pigs, chickens = farm(heads, legs)\n",
    "    if pigs == None:\n",
    "        print('No solution')\n",
    "    else:\n",
    "        print('Number of pigs : ', pigs)\n",
    "        print('Number of chickens : ', chickens)\n",
    "        \n",
    "farm_UI()"
   ]
  },
  {
   "cell_type": "markdown",
   "metadata": {},
   "source": [
    "### Built-in function\n",
    "\n",
    "* Python에 이미 내장되어 있는 built-in function들을 활용할 수 있음\n",
    "\n",
    "* https://docs.python.org/3/library/functions.html\n",
    "\n",
    "* ```range()```, ```str()```, ```raw()```, ```len()```, …\n",
    "\n",
    "* ```max()```, ```min()```, ```abs()```, ```type()```, …\n"
   ]
  },
  {
   "cell_type": "markdown",
   "metadata": {},
   "source": [
    "### ```lambda```\n",
    "\n",
    "```lambda```는 비교적 간단한 함수를 생성할 때 사용하는 키워드로 ```def```와 비슷한 역할을 한다.  \n",
    "* ```lambda arguments: expression```"
   ]
  },
  {
   "cell_type": "code",
   "execution_count": 42,
   "metadata": {},
   "outputs": [],
   "source": [
    "def my_add_plus_one1(x, y): return x + y + 1"
   ]
  },
  {
   "cell_type": "markdown",
   "metadata": {},
   "source": [
    "위 함수 정의는 다음의 방법으로 거의 똑같이 구현할 수 있다.\n",
    "* ```lambda```와 ```:``` 사이에 parameter들이 오며, ```:```뒤에 return값을 배치한다."
   ]
  },
  {
   "cell_type": "code",
   "execution_count": 43,
   "metadata": {},
   "outputs": [],
   "source": [
    "my_add_plus_one2 = lambda x, y: x + y + 1"
   ]
  },
  {
   "cell_type": "code",
   "execution_count": 44,
   "metadata": {},
   "outputs": [
    {
     "data": {
      "text/plain": [
       "4"
      ]
     },
     "execution_count": 44,
     "metadata": {},
     "output_type": "execute_result"
    }
   ],
   "source": [
    "my_add_plus_one2(1, 2)"
   ]
  },
  {
   "cell_type": "markdown",
   "metadata": {},
   "source": [
    "```lambda``` 방법의 장점은 함수에 특별히 이름을 붙이지 않아도 함수를 사용가능 하도록 한다는 점이다.  \n",
    " * 이를 anonymous function이라고도 부른다.  "
   ]
  },
  {
   "cell_type": "code",
   "execution_count": 45,
   "metadata": {},
   "outputs": [
    {
     "data": {
      "text/plain": [
       "4"
      ]
     },
     "execution_count": 45,
     "metadata": {},
     "output_type": "execute_result"
    }
   ],
   "source": [
    "(lambda x, y: x + y + 1)(1, 2)"
   ]
  },
  {
   "cell_type": "markdown",
   "metadata": {},
   "source": [
    "### Module\n",
    "\n",
    "* 기본적으로 제공하는 Built-in function 외에도 module을 통하여 다양한 함수 제공\n",
    "\n",
    "* 예\n",
    "  * math 모듈\n",
    "   * 기본적인 수학 연산을 도와주는 모듈\n",
    "   * https://docs.python.org/3/library/math.html\n",
    "  * random 모듈\n",
    "   * 다양한 분포에 대한 random number를 활용할 수 있게 해주는 모듈\n",
    "   * https://docs.python.org/3/library/random.html\n",
    "\n",
    "* import 명령을 사용하여 모듈을 불러와 사용\n",
    "\n",
    "### Math module\n",
    "\n",
    "* ```import math```\n",
    "* ```math.sqrt(x)```\n",
    "  * x의 제곱근 반환\n",
    "* ```math.exp(x)```\n",
    "  * e**x 반환\n",
    "* ```math.sin(x)```\n",
    "  * sin 함수값 반환\n",
    "* ```math.pi```\n",
    "  * 3.141592…"
   ]
  },
  {
   "cell_type": "code",
   "execution_count": 46,
   "metadata": {},
   "outputs": [
    {
     "data": {
      "text/plain": [
       "8.426149773176359"
      ]
     },
     "execution_count": 46,
     "metadata": {},
     "output_type": "execute_result"
    }
   ],
   "source": [
    "import math\n",
    "math.sqrt(71)"
   ]
  },
  {
   "cell_type": "code",
   "execution_count": 47,
   "metadata": {},
   "outputs": [
    {
     "data": {
      "text/plain": [
       "1.0"
      ]
     },
     "execution_count": 47,
     "metadata": {},
     "output_type": "execute_result"
    }
   ],
   "source": [
    "math.sin(math.pi / 2)"
   ]
  },
  {
   "cell_type": "code",
   "execution_count": 48,
   "metadata": {},
   "outputs": [
    {
     "data": {
      "text/plain": [
       "2.0"
      ]
     },
     "execution_count": 48,
     "metadata": {},
     "output_type": "execute_result"
    }
   ],
   "source": [
    "math.log(4) / math.log(2)"
   ]
  },
  {
   "cell_type": "code",
   "execution_count": 49,
   "metadata": {},
   "outputs": [
    {
     "data": {
      "text/plain": [
       "0.0"
      ]
     },
     "execution_count": 49,
     "metadata": {},
     "output_type": "execute_result"
    }
   ],
   "source": [
    "math.log(4) % math.log(2)"
   ]
  },
  {
   "cell_type": "code",
   "execution_count": 50,
   "metadata": {},
   "outputs": [
    {
     "data": {
      "text/plain": [
       "3.0"
      ]
     },
     "execution_count": 50,
     "metadata": {},
     "output_type": "execute_result"
    }
   ],
   "source": [
    "math.log(8) / math.log(2)"
   ]
  },
  {
   "cell_type": "code",
   "execution_count": 51,
   "metadata": {},
   "outputs": [
    {
     "data": {
      "text/plain": [
       "0.6931471805599452"
      ]
     },
     "execution_count": 51,
     "metadata": {},
     "output_type": "execute_result"
    }
   ],
   "source": [
    "# 실수 간의 나머지를 계산할 때는 주의하여야 한다.\n",
    "math.log(8) % math.log(2)"
   ]
  },
  {
   "cell_type": "markdown",
   "metadata": {},
   "source": [
    "### division - 나누기\n",
    "\n",
    "* 다음은 Python 3.x에서는 해당되지 않는 내용이다.\n",
    "\n",
    "* Python 2.x에서는 나누기(```/```)를 사용시 기본적으로 정수를 먼저 반환하려고 함.\n",
    "  * ```5/2 = 2```\n",
    "* Python 2.x에서 실수 나누기를 하고 싶은 경우\n",
    "  * ```5/2.0``` 혹은 ```5/float(2)```\n",
    "\n",
    "* 만약 Python 2.x에서 default로 실수를 반환하는 나누기(```/```)를 사용하고 싶을 때, 다음 ```import```문을 사용할 수 있음  \n",
    "  * ```from __future__ import division```  \n",
    "  \n",
    "* 이 노트북은 Python 3를 기반으로 작성되었지만, Jupyter cell magic 중의 하나인 ```%%python2```를 이용하면 Python 2를 시험해 볼 수 있다.\n",
    "  * Python 2가 설치되어 있지 않은 컴퓨터에서는 작동하지 않는다."
   ]
  },
  {
   "cell_type": "code",
   "execution_count": 52,
   "metadata": {},
   "outputs": [
    {
     "name": "stdout",
     "output_type": "stream",
     "text": [
      "2\r\n"
     ]
    }
   ],
   "source": [
    "%%python2\n",
    "\n",
    "print(5/2)"
   ]
  },
  {
   "cell_type": "code",
   "execution_count": 53,
   "metadata": {},
   "outputs": [
    {
     "name": "stdout",
     "output_type": "stream",
     "text": [
      "2.5\r\n"
     ]
    }
   ],
   "source": [
    "%%python2\n",
    "\n",
    "print(5/2.0)"
   ]
  },
  {
   "cell_type": "code",
   "execution_count": 54,
   "metadata": {},
   "outputs": [
    {
     "name": "stdout",
     "output_type": "stream",
     "text": [
      "2.5\r\n"
     ]
    }
   ],
   "source": [
    "%%python2\n",
    "\n",
    "from __future__ import division\n",
    "print(5/2)"
   ]
  },
  {
   "cell_type": "code",
   "execution_count": 55,
   "metadata": {},
   "outputs": [
    {
     "name": "stdout",
     "output_type": "stream",
     "text": [
      "2\r\n"
     ]
    }
   ],
   "source": [
    "%%python2\n",
    "\n",
    "print(5//2)"
   ]
  },
  {
   "cell_type": "markdown",
   "metadata": {},
   "source": [
    "### Random module\n",
    "\n",
    "* ```import random```\n",
    "* ```random.random()```\n",
    "  * 0이상 1이하의 랜덤값 반환\n",
    "* ```random.uniform(a,b)```\n",
    "  * a이상 b이하에서 uniform 분포를 가지는 랜덤값 반환\n",
    "* ```random.randint(a,b)```\n",
    "  * a이상 b이하의 랜덤 정수 반환\n",
    "* ```random.gauss(mu, sigma)```, ```random.normalvariate(mu, sigma)```\n",
    "  * 평균 mu, 표준편차 sigma의 정규 분포를 가지는 랜덤값 반환"
   ]
  },
  {
   "cell_type": "code",
   "execution_count": 2,
   "metadata": {},
   "outputs": [
    {
     "data": {
      "text/plain": [
       "0.7963211383276342"
      ]
     },
     "execution_count": 2,
     "metadata": {},
     "output_type": "execute_result"
    }
   ],
   "source": [
    "import random\n",
    "random.random()"
   ]
  },
  {
   "cell_type": "code",
   "execution_count": 5,
   "metadata": {},
   "outputs": [
    {
     "data": {
      "text/plain": [
       "4.745564620103234"
      ]
     },
     "execution_count": 5,
     "metadata": {},
     "output_type": "execute_result"
    }
   ],
   "source": [
    "random.uniform(0, 10)"
   ]
  },
  {
   "cell_type": "code",
   "execution_count": 4,
   "metadata": {},
   "outputs": [
    {
     "data": {
      "text/plain": [
       "1"
      ]
     },
     "execution_count": 4,
     "metadata": {},
     "output_type": "execute_result"
    }
   ],
   "source": [
    "random.randint(1, 5)"
   ]
  },
  {
   "cell_type": "code",
   "execution_count": 3,
   "metadata": {},
   "outputs": [
    {
     "data": {
      "text/plain": [
       "0.09107990131360985"
      ]
     },
     "execution_count": 3,
     "metadata": {},
     "output_type": "execute_result"
    }
   ],
   "source": [
    "random.gauss(0, 1)"
   ]
  },
  {
   "cell_type": "markdown",
   "metadata": {},
   "source": [
    "#### 예제 : 랜덤4자리 숫자비밀번호만들기"
   ]
  },
  {
   "cell_type": "code",
   "execution_count": 23,
   "metadata": {},
   "outputs": [
    {
     "name": "stdout",
     "output_type": "stream",
     "text": [
      "0577"
     ]
    }
   ],
   "source": [
    "import random\n",
    "x = 0\n",
    "while x < 4:\n",
    "    print(random.randint(0,9), end = '')\n",
    "    x += 1"
   ]
  },
  {
   "cell_type": "markdown",
   "metadata": {},
   "source": [
    "#### 예제 : 랜덤 숫자를 맞추는 프로그램\n",
    "\n",
    "1부터 100까지의 숫자를 랜덤으로 생성 후 키보드 입력을 통해 그 숫자를 맞추는 프로그램\n"
   ]
  },
  {
   "cell_type": "code",
   "execution_count": 60,
   "metadata": {},
   "outputs": [],
   "source": [
    "import random\n",
    "def guess():\n",
    "    a = random.randint(1, 100)\n",
    "    while(True):\n",
    "        x = input(\"Guess the number between 1 to 100 (type q to quit) : \")\n",
    "        \n",
    "        if x == \"q\":\n",
    "            return\n",
    "        elif a == int(x):\n",
    "            print(\"Correct!\")\n",
    "            return\n",
    "        elif a < int(x):\n",
    "            print(\"The number is smaller than your guess, try again.\")\n",
    "        elif a > int(x):\n",
    "            print(\"The number is larger than your guess, try again.\")\n",
    "        else:\n",
    "            print(\"Please input appropriate number.\")"
   ]
  },
  {
   "cell_type": "code",
   "execution_count": 62,
   "metadata": {},
   "outputs": [
    {
     "name": "stdout",
     "output_type": "stream",
     "text": [
      "Guess the number between 1 to 100 (type q to quit) : 50\n",
      "The number is smaller than your guess, try again.\n",
      "Guess the number between 1 to 100 (type q to quit) : 25\n",
      "The number is larger than your guess, try again.\n",
      "Guess the number between 1 to 100 (type q to quit) : 37\n",
      "The number is smaller than your guess, try again.\n",
      "Guess the number between 1 to 100 (type q to quit) : 31\n",
      "The number is larger than your guess, try again.\n",
      "Guess the number between 1 to 100 (type q to quit) : 34\n",
      "The number is larger than your guess, try again.\n",
      "Guess the number between 1 to 100 (type q to quit) : 35\n",
      "The number is larger than your guess, try again.\n",
      "Guess the number between 1 to 100 (type q to quit) : 36\n",
      "Correct!\n"
     ]
    }
   ],
   "source": [
    "guess()"
   ]
  },
  {
   "cell_type": "markdown",
   "metadata": {},
   "source": [
    "### 예제\n",
    "\n",
    "다음은 윷놀이에서 도,개,걸,윷,모 5가지의 계급이 나올 확률을 경험적으로 계산해주는 함수이다.\n",
    "\n",
    "m은 각 계급이 나오기 위한 앞면의 개수의 합을 표현한 수이다. (예를 들어, '모'는 m=0, '도'는 m=1 등) n은 확률을 계산하기 위한 시행횟수이다."
   ]
  },
  {
   "cell_type": "code",
   "execution_count": 3,
   "metadata": {},
   "outputs": [
    {
     "data": {
      "text/plain": [
       "0.062"
      ]
     },
     "execution_count": 3,
     "metadata": {},
     "output_type": "execute_result"
    }
   ],
   "source": [
    "# 이 예제는 s21610683에 의해 제공되었다.\n",
    "import random\n",
    "def prob_yut(m,n) :         # 구하고 싶은 확률의 계급값('모'는 0, '도'는 1, '개'는 2, '걸'은 3, '윷'은 4)을 m과 시행횟수 n을 대입\n",
    "    z = m\n",
    "    t = n\n",
    "    x = 0\n",
    "\n",
    "    while t > 0 :\n",
    "        yut = (random.randint(0,1),random.randint(0,1),random.randint(0,1),random.randint(0,1))\n",
    "        if sum(yut) == z :\n",
    "            x += 1\n",
    "            t -= 1\n",
    "        else :\n",
    "            t -= 1\n",
    "    else :\n",
    "        p = x/n\n",
    "    return p\n",
    "\n",
    "prob_yut(4, 10000)"
   ]
  },
  {
   "cell_type": "markdown",
   "metadata": {},
   "source": [
    "예제"
   ]
  },
  {
   "cell_type": "markdown",
   "metadata": {},
   "source": [
    "다음의 예제는 1에서 45사이의 수 3개를 랜덤으로 뽑는 함수이다."
   ]
  },
  {
   "cell_type": "code",
   "execution_count": 5,
   "metadata": {},
   "outputs": [
    {
     "data": {
      "text/plain": [
       "[11, 6, 2]"
      ]
     },
     "execution_count": 5,
     "metadata": {},
     "output_type": "execute_result"
    }
   ],
   "source": [
    "# 이 예제는 s21410771에 의해 제공되었다.\n",
    "\n",
    "import random\n",
    "\n",
    "def sample():\n",
    "    return random.sample(range(46),3)\n",
    "\n",
    "sample()"
   ]
  },
  {
   "cell_type": "markdown",
   "metadata": {},
   "source": [
    "### t – 랜덤 변수\n",
    "\n",
    "* gauss() 함수와 gammavariate() 함수를 이용하여 t-분포를 따르는 랜덤 변수를 생성하는 함수"
   ]
  },
  {
   "cell_type": "code",
   "execution_count": 63,
   "metadata": {},
   "outputs": [],
   "source": [
    "import math \n",
    "import random\n",
    "\n",
    "def student_t(nu): # nu equals number of degrees of freedom\n",
    "    x = random.gauss(0.0, 1.0)\n",
    "    y = 2.0*random.gammavariate(0.5*nu, 2.0)\n",
    "    return x / (math.sqrt(y/nu))"
   ]
  },
  {
   "cell_type": "code",
   "execution_count": 64,
   "metadata": {},
   "outputs": [
    {
     "data": {
      "text/plain": [
       "0.7848164054497683"
      ]
     },
     "execution_count": 64,
     "metadata": {},
     "output_type": "execute_result"
    }
   ],
   "source": [
    "student_t(10)"
   ]
  },
  {
   "cell_type": "markdown",
   "metadata": {},
   "source": [
    "#### 모듈 파일을 불러오는 다양한 방법"
   ]
  },
  {
   "cell_type": "code",
   "execution_count": 65,
   "metadata": {},
   "outputs": [
    {
     "data": {
      "text/plain": [
       "3"
      ]
     },
     "execution_count": 65,
     "metadata": {},
     "output_type": "execute_result"
    }
   ],
   "source": [
    "import random  \n",
    "random.randint(1, 10)"
   ]
  },
  {
   "cell_type": "code",
   "execution_count": 66,
   "metadata": {},
   "outputs": [
    {
     "data": {
      "text/plain": [
       "3"
      ]
     },
     "execution_count": 66,
     "metadata": {},
     "output_type": "execute_result"
    }
   ],
   "source": [
    "from random import *  \n",
    "randint(1, 10)"
   ]
  },
  {
   "cell_type": "code",
   "execution_count": 67,
   "metadata": {},
   "outputs": [
    {
     "data": {
      "text/plain": [
       "9"
      ]
     },
     "execution_count": 67,
     "metadata": {},
     "output_type": "execute_result"
    }
   ],
   "source": [
    "import random as r   \n",
    "r.randint(1, 10)"
   ]
  },
  {
   "cell_type": "markdown",
   "metadata": {},
   "source": [
    "### 모듈에 대한 여러 가지\n",
    "\n",
    "* 파이썬 스크립트 파일로 모듈을 만들 수 있음\n",
    "  * 기본 작업 directory에 저장하여 import 할 수 있음  \n",
    "  * ```import(fibo)```\n",
    "* 모듈 변경과 갱신\n",
    "  * 혹시 모듈을 변경하였다면 ```reload``` 명령을 이용하여 갱신\n",
    "   * ```from imp import reload```\n",
    "   * ```reload(fibo)```"
   ]
  }
 ],
 "metadata": {
  "kernelspec": {
   "display_name": "Python 3",
   "language": "python",
   "name": "python3"
  },
  "language_info": {
   "codemirror_mode": {
    "name": "ipython",
    "version": 3
   },
   "file_extension": ".py",
   "mimetype": "text/x-python",
   "name": "python",
   "nbconvert_exporter": "python",
   "pygments_lexer": "ipython3",
   "version": "3.6.8"
  }
 },
 "nbformat": 4,
 "nbformat_minor": 1
}
